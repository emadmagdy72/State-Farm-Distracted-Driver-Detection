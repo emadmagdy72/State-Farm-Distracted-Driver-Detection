{
 "cells": [
  {
   "cell_type": "markdown",
   "metadata": {},
   "source": [
    "## Import Libraries"
   ]
  },
  {
   "cell_type": "code",
   "execution_count": 1,
   "metadata": {
    "execution": {
     "iopub.execute_input": "2024-04-09T11:21:11.337702Z",
     "iopub.status.busy": "2024-04-09T11:21:11.337109Z",
     "iopub.status.idle": "2024-04-09T11:21:17.514166Z",
     "shell.execute_reply": "2024-04-09T11:21:17.513355Z",
     "shell.execute_reply.started": "2024-04-09T11:21:11.337594Z"
    }
   },
   "outputs": [],
   "source": [
    "import numpy as np\n",
    "import pandas as pd\n",
    "import matplotlib.pyplot as plt\n",
    "import seaborn as sns\n",
    "import os\n",
    "import cv2\n",
    "from tensorflow.keras import optimizers\n",
    "from sklearn.model_selection import train_test_split\n",
    "from sklearn.preprocessing import LabelEncoder\n",
    "from tensorflow.keras.utils import to_categorical\n",
    "from tensorflow.keras import models\n",
    "from tensorflow.keras import layers\n",
    "from keras.preprocessing.image import ImageDataGenerator\n",
    "from keras.applications.vgg16 import VGG16"
   ]
  },
  {
   "cell_type": "code",
   "execution_count": 2,
   "metadata": {
    "execution": {
     "iopub.execute_input": "2024-04-09T11:21:21.504136Z",
     "iopub.status.busy": "2024-04-09T11:21:21.503133Z",
     "iopub.status.idle": "2024-04-09T11:21:21.557579Z",
     "shell.execute_reply": "2024-04-09T11:21:21.556670Z",
     "shell.execute_reply.started": "2024-04-09T11:21:21.504095Z"
    }
   },
   "outputs": [
    {
     "data": {
      "text/html": [
       "<div>\n",
       "<style scoped>\n",
       "    .dataframe tbody tr th:only-of-type {\n",
       "        vertical-align: middle;\n",
       "    }\n",
       "\n",
       "    .dataframe tbody tr th {\n",
       "        vertical-align: top;\n",
       "    }\n",
       "\n",
       "    .dataframe thead th {\n",
       "        text-align: right;\n",
       "    }\n",
       "</style>\n",
       "<table border=\"1\" class=\"dataframe\">\n",
       "  <thead>\n",
       "    <tr style=\"text-align: right;\">\n",
       "      <th></th>\n",
       "      <th>subject</th>\n",
       "      <th>classname</th>\n",
       "      <th>img</th>\n",
       "    </tr>\n",
       "  </thead>\n",
       "  <tbody>\n",
       "    <tr>\n",
       "      <th>0</th>\n",
       "      <td>p002</td>\n",
       "      <td>c0</td>\n",
       "      <td>img_44733.jpg</td>\n",
       "    </tr>\n",
       "    <tr>\n",
       "      <th>1</th>\n",
       "      <td>p002</td>\n",
       "      <td>c0</td>\n",
       "      <td>img_72999.jpg</td>\n",
       "    </tr>\n",
       "    <tr>\n",
       "      <th>2</th>\n",
       "      <td>p002</td>\n",
       "      <td>c0</td>\n",
       "      <td>img_25094.jpg</td>\n",
       "    </tr>\n",
       "    <tr>\n",
       "      <th>3</th>\n",
       "      <td>p002</td>\n",
       "      <td>c0</td>\n",
       "      <td>img_69092.jpg</td>\n",
       "    </tr>\n",
       "    <tr>\n",
       "      <th>4</th>\n",
       "      <td>p002</td>\n",
       "      <td>c0</td>\n",
       "      <td>img_92629.jpg</td>\n",
       "    </tr>\n",
       "  </tbody>\n",
       "</table>\n",
       "</div>"
      ],
      "text/plain": [
       "  subject classname            img\n",
       "0    p002        c0  img_44733.jpg\n",
       "1    p002        c0  img_72999.jpg\n",
       "2    p002        c0  img_25094.jpg\n",
       "3    p002        c0  img_69092.jpg\n",
       "4    p002        c0  img_92629.jpg"
      ]
     },
     "execution_count": 2,
     "metadata": {},
     "output_type": "execute_result"
    }
   ],
   "source": [
    "df=pd.read_csv(\"../input/state-farm-distracted-driver-detection/driver_imgs_list.csv\")\n",
    "df.head()"
   ]
  },
  {
   "cell_type": "code",
   "execution_count": 3,
   "metadata": {
    "execution": {
     "iopub.execute_input": "2024-04-09T11:21:30.502756Z",
     "iopub.status.busy": "2024-04-09T11:21:30.501837Z",
     "iopub.status.idle": "2024-04-09T11:21:30.509739Z",
     "shell.execute_reply": "2024-04-09T11:21:30.508661Z",
     "shell.execute_reply.started": "2024-04-09T11:21:30.502722Z"
    }
   },
   "outputs": [],
   "source": [
    "features=df[\"img\"]\n",
    "labels=df[\"classname\"]"
   ]
  },
  {
   "cell_type": "code",
   "execution_count": 4,
   "metadata": {
    "execution": {
     "iopub.execute_input": "2024-04-09T11:21:30.673038Z",
     "iopub.status.busy": "2024-04-09T11:21:30.672479Z",
     "iopub.status.idle": "2024-04-09T11:21:30.685143Z",
     "shell.execute_reply": "2024-04-09T11:21:30.684246Z",
     "shell.execute_reply.started": "2024-04-09T11:21:30.673008Z"
    }
   },
   "outputs": [
    {
     "data": {
      "text/plain": [
       "c0    2489\n",
       "c3    2346\n",
       "c4    2326\n",
       "c6    2325\n",
       "c2    2317\n",
       "c5    2312\n",
       "c1    2267\n",
       "c9    2129\n",
       "c7    2002\n",
       "c8    1911\n",
       "Name: classname, dtype: int64"
      ]
     },
     "execution_count": 4,
     "metadata": {},
     "output_type": "execute_result"
    }
   ],
   "source": [
    "df[\"classname\"].value_counts()"
   ]
  },
  {
   "cell_type": "code",
   "execution_count": 5,
   "metadata": {
    "execution": {
     "iopub.execute_input": "2024-04-09T11:21:32.176297Z",
     "iopub.status.busy": "2024-04-09T11:21:32.175763Z",
     "iopub.status.idle": "2024-04-09T11:21:32.452390Z",
     "shell.execute_reply": "2024-04-09T11:21:32.451377Z",
     "shell.execute_reply.started": "2024-04-09T11:21:32.176256Z"
    }
   },
   "outputs": [
    {
     "data": {
      "image/png": "[encoded data removed]",
      "text/plain": [
       "<Figure size 720x360 with 1 Axes>"
      ]
     },
     "metadata": {
      "needs_background": "light"
     },
     "output_type": "display_data"
    }
   ],
   "source": [
    "plt.figure(figsize = (10,5))\n",
    "# Count the number of images per category\n",
    "sns.countplot(x = 'classname',data = df)\n",
    "\n",
    "plt.title('Categories Distribution'.title(),size=22 )\n",
    "plt.xlabel('classname')\n",
    "plt.ylabel('Count')\n",
    "\n",
    "plt.show()"
   ]
  },
  {
   "cell_type": "code",
   "execution_count": 6,
   "metadata": {
    "execution": {
     "iopub.execute_input": "2024-04-09T11:21:32.454821Z",
     "iopub.status.busy": "2024-04-09T11:21:32.454441Z",
     "iopub.status.idle": "2024-04-09T11:21:32.474557Z",
     "shell.execute_reply": "2024-04-09T11:21:32.473649Z",
     "shell.execute_reply.started": "2024-04-09T11:21:32.454782Z"
    }
   },
   "outputs": [
    {
     "data": {
      "text/plain": [
       "['c5', 'c7', 'c8', 'c2', 'c6', 'c4', 'c3', 'c1', 'c9', 'c0']"
      ]
     },
     "execution_count": 6,
     "metadata": {},
     "output_type": "execute_result"
    }
   ],
   "source": [
    "path=\"../input/state-farm-distracted-driver-detection/imgs/train\"\n",
    "folder_names=os.listdir(path)\n",
    "folder_names"
   ]
  },
  {
   "cell_type": "code",
   "execution_count": 7,
   "metadata": {
    "execution": {
     "iopub.execute_input": "2024-04-09T11:21:32.475967Z",
     "iopub.status.busy": "2024-04-09T11:21:32.475672Z",
     "iopub.status.idle": "2024-04-09T11:21:36.217872Z",
     "shell.execute_reply": "2024-04-09T11:21:36.216941Z",
     "shell.execute_reply.started": "2024-04-09T11:21:32.475940Z"
    }
   },
   "outputs": [
    {
     "name": "stdout",
     "output_type": "stream",
     "text": [
      "c5 contains 2312\n",
      "c7 contains 2002\n",
      "c8 contains 1911\n",
      "c2 contains 2317\n",
      "c6 contains 2325\n",
      "c4 contains 2326\n",
      "c3 contains 2346\n",
      "c1 contains 2267\n",
      "c9 contains 2129\n",
      "c0 contains 2489\n"
     ]
    }
   ],
   "source": [
    "for i,folder in enumerate( folder_names):\n",
    "    print(folder,\"contains\",len(os.listdir(path+\"/\"+folder)))"
   ]
  },
  {
   "cell_type": "markdown",
   "metadata": {},
   "source": [
    "### Reading Images GrayScale"
   ]
  },
  {
   "cell_type": "code",
   "execution_count": 8,
   "metadata": {
    "execution": {
     "iopub.execute_input": "2024-04-09T11:21:36.220305Z",
     "iopub.status.busy": "2024-04-09T11:21:36.219934Z",
     "iopub.status.idle": "2024-04-09T11:21:36.226673Z",
     "shell.execute_reply": "2024-04-09T11:21:36.225742Z",
     "shell.execute_reply.started": "2024-04-09T11:21:36.220275Z"
    }
   },
   "outputs": [],
   "source": [
    "def read_gray():\n",
    "    base=\"../input/state-farm-distracted-driver-detection/imgs/train\"\n",
    "    image_data=[]\n",
    "    label_data=[]\n",
    "    for i in range(len (features)):\n",
    "        img = cv2.resize(cv2.imread(base+\"/\"+labels[i]+\"/\"+ features[i], cv2.IMREAD_GRAYSCALE),(64,64))\n",
    "        image_data.append(img)\n",
    "        label_data.append(labels[i])\n",
    "    return image_data, label_data"
   ]
  },
  {
   "cell_type": "markdown",
   "metadata": {},
   "source": [
    "### Reading Images RGB"
   ]
  },
  {
   "cell_type": "code",
   "execution_count": 9,
   "metadata": {
    "execution": {
     "iopub.execute_input": "2024-04-09T11:21:36.228268Z",
     "iopub.status.busy": "2024-04-09T11:21:36.227912Z",
     "iopub.status.idle": "2024-04-09T11:21:36.236937Z",
     "shell.execute_reply": "2024-04-09T11:21:36.235921Z",
     "shell.execute_reply.started": "2024-04-09T11:21:36.228233Z"
    }
   },
   "outputs": [],
   "source": [
    "def read_color():    \n",
    "    path=\"../input/state-farm-distracted-driver-detection/imgs/train\"\n",
    "    image_data=[]\n",
    "    label_data=[]\n",
    "    for i in range(len (features)):\n",
    "        img=cv2.imread(path+\"/\"+labels[i]+\"/\"+ features[i],cv2.IMREAD_COLOR)\n",
    "        img = cv2.resize(cv2.cvtColor(img, cv2.COLOR_BGR2RGB) ,(64,64))\n",
    "        image_data.append(img)\n",
    "        label_data.append(labels[i])\n",
    "    return image_data,label_data"
   ]
  },
  {
   "cell_type": "markdown",
   "metadata": {},
   "source": [
    "### Splitting Dataset"
   ]
  },
  {
   "cell_type": "code",
   "execution_count": 10,
   "metadata": {
    "execution": {
     "iopub.execute_input": "2024-04-09T11:21:36.238190Z",
     "iopub.status.busy": "2024-04-09T11:21:36.237894Z",
     "iopub.status.idle": "2024-04-09T11:21:36.246535Z",
     "shell.execute_reply": "2024-04-09T11:21:36.245539Z",
     "shell.execute_reply.started": "2024-04-09T11:21:36.238156Z"
    }
   },
   "outputs": [],
   "source": [
    "def split(image_data,label_data):\n",
    "    train_images, images_validation_test, train_labels, labels_validation_test = train_test_split(\n",
    "        image_data, label_data, test_size=0.2, random_state=42, stratify=labels)\n",
    "    validation_images, test_images, validation_labels, test_labels = train_test_split(\n",
    "        images_validation_test, labels_validation_test, test_size=0.5,random_state=42,stratify=labels_validation_test)\n",
    "    train_images=np.asarray(train_images)\n",
    "    validation_images=np.asarray(validation_images)\n",
    "    test_images=np.asarray(test_images)\n",
    "    \n",
    "    train_labels=np.asarray(train_labels)\n",
    "    validation_labels=np.asarray(validation_labels)\n",
    "    test_labels=np.asarray(test_labels)\n",
    "    return train_images,train_labels,validation_images,validation_labels,test_images,test_labels"
   ]
  },
  {
   "cell_type": "markdown",
   "metadata": {},
   "source": [
    "### Data Preprocessing"
   ]
  },
  {
   "cell_type": "code",
   "execution_count": 11,
   "metadata": {
    "execution": {
     "iopub.execute_input": "2024-04-09T11:21:36.248014Z",
     "iopub.status.busy": "2024-04-09T11:21:36.247699Z",
     "iopub.status.idle": "2024-04-09T11:21:36.260010Z",
     "shell.execute_reply": "2024-04-09T11:21:36.259190Z",
     "shell.execute_reply.started": "2024-04-09T11:21:36.247987Z"
    }
   },
   "outputs": [],
   "source": [
    "def feature_preprocessing(train_images,validation_images,test_images):\n",
    "    train_images = train_images.reshape((train_images.shape[0], -1))\n",
    "    train_images = train_images.astype('float32') / 255\n",
    "\n",
    "    validation_images = validation_images.reshape((validation_images.shape[0], -1))\n",
    "    validation_images = validation_images.astype('float32') / 255\n",
    "\n",
    "    test_images = test_images.reshape((test_images.shape[0],-1))\n",
    "    test_images = test_images.astype('float32') / 255\n",
    "    return train_images,validation_images,test_images"
   ]
  },
  {
   "cell_type": "code",
   "execution_count": 12,
   "metadata": {
    "execution": {
     "iopub.execute_input": "2024-04-09T11:21:36.261926Z",
     "iopub.status.busy": "2024-04-09T11:21:36.261294Z",
     "iopub.status.idle": "2024-04-09T11:21:36.269968Z",
     "shell.execute_reply": "2024-04-09T11:21:36.269203Z",
     "shell.execute_reply.started": "2024-04-09T11:21:36.261886Z"
    }
   },
   "outputs": [],
   "source": [
    "def label_preprocessing(train_labels,validation_labels,test_labels):   \n",
    "    label_encoder = LabelEncoder()\n",
    "    vec = label_encoder.fit_transform(train_labels)\n",
    "    train_labels = to_categorical(vec)\n",
    "    vec = label_encoder.fit_transform(validation_labels)\n",
    "    validation_labels = to_categorical(vec)\n",
    "    vec = label_encoder.fit_transform(test_labels)\n",
    "    test_labels = to_categorical(vec)\n",
    "    return train_labels,validation_labels,test_labels"
   ]
  },
  {
   "cell_type": "markdown",
   "metadata": {},
   "source": [
    "### Baseline Dense layers model"
   ]
  },
  {
   "cell_type": "code",
   "execution_count": 13,
   "metadata": {
    "execution": {
     "iopub.execute_input": "2024-04-09T11:21:36.271329Z",
     "iopub.status.busy": "2024-04-09T11:21:36.270981Z",
     "iopub.status.idle": "2024-04-09T11:26:46.057107Z",
     "shell.execute_reply": "2024-04-09T11:26:46.056202Z",
     "shell.execute_reply.started": "2024-04-09T11:21:36.271294Z"
    }
   },
   "outputs": [],
   "source": [
    "image_data, label_data=read_gray()\n",
    "train_images,train_labels,validation_images,validation_labels,test_images,test_labels=split(image_data,label_data)\n",
    "train_images,validation_images,test_images=feature_preprocessing(train_images,validation_images,test_images)\n",
    "train_labels,validation_labels,test_labels=label_preprocessing(train_labels,validation_labels,test_labels)"
   ]
  },
  {
   "cell_type": "code",
   "execution_count": 14,
   "metadata": {
    "execution": {
     "iopub.execute_input": "2024-04-09T11:26:46.060437Z",
     "iopub.status.busy": "2024-04-09T11:26:46.059931Z",
     "iopub.status.idle": "2024-04-09T11:26:49.241286Z",
     "shell.execute_reply": "2024-04-09T11:26:49.240489Z",
     "shell.execute_reply.started": "2024-04-09T11:26:46.060396Z"
    }
   },
   "outputs": [],
   "source": [
    "dense_model = models.Sequential()\n",
    "dense_model.add(layers.Dense(256, activation='relu', name='Layer_1', input_shape=(64*64*1,)))\n",
    "dense_model.add(layers.Dense(256, activation='relu', name='Layer_2'))\n",
    "dense_model.add(layers.Dense(128, activation='relu', name='Layer_3'))\n",
    "dense_model.add(layers.Dense(128, activation='relu', name='Layer_4'))\n",
    "dense_model.add(layers.Dense(10, activation='softmax'))"
   ]
  },
  {
   "cell_type": "code",
   "execution_count": 15,
   "metadata": {
    "execution": {
     "iopub.execute_input": "2024-04-09T11:27:18.434437Z",
     "iopub.status.busy": "2024-04-09T11:27:18.433514Z",
     "iopub.status.idle": "2024-04-09T11:27:18.440534Z",
     "shell.execute_reply": "2024-04-09T11:27:18.439406Z",
     "shell.execute_reply.started": "2024-04-09T11:27:18.434396Z"
    }
   },
   "outputs": [
    {
     "name": "stdout",
     "output_type": "stream",
     "text": [
      "Model: \"sequential\"\n",
      "_________________________________________________________________\n",
      "Layer (type)                 Output Shape              Param #   \n",
      "=================================================================\n",
      "Layer_1 (Dense)              (None, 256)               1048832   \n",
      "_________________________________________________________________\n",
      "Layer_2 (Dense)              (None, 256)               65792     \n",
      "_________________________________________________________________\n",
      "Layer_3 (Dense)              (None, 128)               32896     \n",
      "_________________________________________________________________\n",
      "Layer_4 (Dense)              (None, 128)               16512     \n",
      "_________________________________________________________________\n",
      "dense (Dense)                (None, 10)                1290      \n",
      "=================================================================\n",
      "Total params: 1,165,322\n",
      "Trainable params: 1,165,322\n",
      "Non-trainable params: 0\n",
      "_________________________________________________________________\n"
     ]
    }
   ],
   "source": [
    "dense_model.summary()"
   ]
  },
  {
   "cell_type": "code",
   "execution_count": 16,
   "metadata": {
    "execution": {
     "iopub.execute_input": "2024-04-09T11:27:26.780236Z",
     "iopub.status.busy": "2024-04-09T11:27:26.779210Z",
     "iopub.status.idle": "2024-04-09T11:27:26.794403Z",
     "shell.execute_reply": "2024-04-09T11:27:26.793375Z",
     "shell.execute_reply.started": "2024-04-09T11:27:26.780176Z"
    }
   },
   "outputs": [],
   "source": [
    "dense_model.compile(optimizer=optimizers.Adam(learning_rate=10e-3),\n",
    "                loss='categorical_crossentropy',\n",
    "                metrics=['accuracy'])"
   ]
  },
  {
   "cell_type": "code",
   "execution_count": 17,
   "metadata": {
    "execution": {
     "iopub.execute_input": "2024-04-09T11:27:31.842153Z",
     "iopub.status.busy": "2024-04-09T11:27:31.841503Z",
     "iopub.status.idle": "2024-04-09T11:27:53.427007Z",
     "shell.execute_reply": "2024-04-09T11:27:53.425780Z",
     "shell.execute_reply.started": "2024-04-09T11:27:31.842118Z"
    }
   },
   "outputs": [
    {
     "name": "stdout",
     "output_type": "stream",
     "text": [
      "Epoch 1/20\n",
      "141/141 [==============================] - 2s 5ms/step - loss: 2.4380 - accuracy: 0.2799 - val_loss: 1.3880 - val_accuracy: 0.4554\n",
      "Epoch 2/20\n",
      "141/141 [==============================] - 0s 3ms/step - loss: 1.1722 - accuracy: 0.5387 - val_loss: 1.0774 - val_accuracy: 0.5910\n",
      "Epoch 3/20\n",
      "141/141 [==============================] - 0s 3ms/step - loss: 0.9282 - accuracy: 0.6510 - val_loss: 1.1214 - val_accuracy: 0.5803\n",
      "Epoch 4/20\n",
      "141/141 [==============================] - 0s 3ms/step - loss: 0.6528 - accuracy: 0.7671 - val_loss: 0.5272 - val_accuracy: 0.8087\n",
      "Epoch 5/20\n",
      "141/141 [==============================] - 0s 3ms/step - loss: 0.5940 - accuracy: 0.7948 - val_loss: 0.7571 - val_accuracy: 0.7199\n",
      "Epoch 6/20\n",
      "141/141 [==============================] - 0s 3ms/step - loss: 0.4260 - accuracy: 0.8548 - val_loss: 0.4454 - val_accuracy: 0.8515\n",
      "Epoch 7/20\n",
      "141/141 [==============================] - 0s 4ms/step - loss: 0.4397 - accuracy: 0.8480 - val_loss: 0.5395 - val_accuracy: 0.8109\n",
      "Epoch 8/20\n",
      "141/141 [==============================] - 0s 3ms/step - loss: 0.3189 - accuracy: 0.8917 - val_loss: 0.8816 - val_accuracy: 0.7083\n",
      "Epoch 9/20\n",
      "141/141 [==============================] - 0s 3ms/step - loss: 0.3682 - accuracy: 0.8762 - val_loss: 0.3996 - val_accuracy: 0.8617\n",
      "Epoch 10/20\n",
      "141/141 [==============================] - 0s 3ms/step - loss: 0.3342 - accuracy: 0.8865 - val_loss: 1.0509 - val_accuracy: 0.6971\n",
      "Epoch 11/20\n",
      "141/141 [==============================] - 0s 3ms/step - loss: 0.2722 - accuracy: 0.9108 - val_loss: 0.2332 - val_accuracy: 0.9237\n",
      "Epoch 12/20\n",
      "141/141 [==============================] - 0s 3ms/step - loss: 0.1899 - accuracy: 0.9376 - val_loss: 0.4967 - val_accuracy: 0.8408\n",
      "Epoch 13/20\n",
      "141/141 [==============================] - 0s 3ms/step - loss: 0.3497 - accuracy: 0.8850 - val_loss: 0.2486 - val_accuracy: 0.9202\n",
      "Epoch 14/20\n",
      "141/141 [==============================] - 1s 4ms/step - loss: 0.2271 - accuracy: 0.9261 - val_loss: 0.2374 - val_accuracy: 0.9260\n",
      "Epoch 15/20\n",
      "141/141 [==============================] - 1s 5ms/step - loss: 0.2352 - accuracy: 0.9237 - val_loss: 0.1938 - val_accuracy: 0.9326\n",
      "Epoch 16/20\n",
      "141/141 [==============================] - 0s 3ms/step - loss: 0.1993 - accuracy: 0.9355 - val_loss: 0.9544 - val_accuracy: 0.6695\n",
      "Epoch 17/20\n",
      "141/141 [==============================] - 0s 3ms/step - loss: 0.2092 - accuracy: 0.9315 - val_loss: 0.6608 - val_accuracy: 0.7935\n",
      "Epoch 18/20\n",
      "141/141 [==============================] - 0s 3ms/step - loss: 0.1548 - accuracy: 0.9526 - val_loss: 0.3311 - val_accuracy: 0.8956\n",
      "Epoch 19/20\n",
      "141/141 [==============================] - 0s 3ms/step - loss: 0.2015 - accuracy: 0.9340 - val_loss: 0.3159 - val_accuracy: 0.8849\n",
      "Epoch 20/20\n",
      "141/141 [==============================] - 0s 3ms/step - loss: 0.2586 - accuracy: 0.9128 - val_loss: 0.6502 - val_accuracy: 0.7904\n"
     ]
    }
   ],
   "source": [
    "history = dense_model.fit(train_images, train_labels,\n",
    "            validation_data=(validation_images,validation_labels),\n",
    "            epochs=20, batch_size=128)"
   ]
  },
  {
   "cell_type": "code",
   "execution_count": 18,
   "metadata": {
    "execution": {
     "iopub.execute_input": "2024-04-09T11:28:08.753662Z",
     "iopub.status.busy": "2024-04-09T11:28:08.753270Z",
     "iopub.status.idle": "2024-04-09T11:28:08.966137Z",
     "shell.execute_reply": "2024-04-09T11:28:08.965200Z",
     "shell.execute_reply.started": "2024-04-09T11:28:08.753630Z"
    }
   },
   "outputs": [
    {
     "data": {
      "image/png": "[encoded data removed]",
      "text/plain": [
       "<Figure size 432x288 with 1 Axes>"
      ]
     },
     "metadata": {
      "needs_background": "light"
     },
     "output_type": "display_data"
    }
   ],
   "source": [
    "plt.plot(range(1, 21), history.history['loss'], label='loss')\n",
    "plt.plot(range(1, 21), history.history['val_loss'], label='validation loss')\n",
    "plt.legend()\n",
    "plt.show()"
   ]
  },
  {
   "cell_type": "code",
   "execution_count": 19,
   "metadata": {
    "execution": {
     "iopub.execute_input": "2024-04-09T11:28:40.417739Z",
     "iopub.status.busy": "2024-04-09T11:28:40.416764Z",
     "iopub.status.idle": "2024-04-09T11:28:40.606991Z",
     "shell.execute_reply": "2024-04-09T11:28:40.605954Z",
     "shell.execute_reply.started": "2024-04-09T11:28:40.417698Z"
    }
   },
   "outputs": [
    {
     "data": {
      "image/png": "[encoded data removed]",
      "text/plain": [
       "<Figure size 432x288 with 1 Axes>"
      ]
     },
     "metadata": {
      "needs_background": "light"
     },
     "output_type": "display_data"
    }
   ],
   "source": [
    "plt.plot(range(1, 21), history.history['accuracy'], label='accuracy')\n",
    "plt.plot(range(1, 21), history.history['val_accuracy'], label='val_accuracy')\n",
    "plt.legend()\n",
    "plt.show()"
   ]
  },
  {
   "cell_type": "code",
   "execution_count": 22,
   "metadata": {
    "execution": {
     "iopub.execute_input": "2024-04-09T11:29:30.214433Z",
     "iopub.status.busy": "2024-04-09T11:29:30.213650Z",
     "iopub.status.idle": "2024-04-09T11:29:30.485116Z",
     "shell.execute_reply": "2024-04-09T11:29:30.484124Z",
     "shell.execute_reply.started": "2024-04-09T11:29:30.214397Z"
    }
   },
   "outputs": [
    {
     "name": "stdout",
     "output_type": "stream",
     "text": [
      "71/71 [==============================] - 0s 2ms/step - loss: 0.6659 - accuracy: 0.7833\n"
     ]
    }
   ],
   "source": [
    "test_loss, test_acc = dense_model.evaluate(test_images, test_labels)"
   ]
  },
  {
   "cell_type": "markdown",
   "metadata": {},
   "source": [
    "### Baseline CNN model"
   ]
  },
  {
   "cell_type": "code",
   "execution_count": 24,
   "metadata": {
    "execution": {
     "iopub.execute_input": "2024-04-09T11:29:49.805634Z",
     "iopub.status.busy": "2024-04-09T11:29:49.805246Z",
     "iopub.status.idle": "2024-04-09T11:31:55.413382Z",
     "shell.execute_reply": "2024-04-09T11:31:55.412276Z",
     "shell.execute_reply.started": "2024-04-09T11:29:49.805603Z"
    }
   },
   "outputs": [],
   "source": [
    "image_data, label_data=read_color()\n",
    "train_images,train_labels,validation_images,validation_labels,test_images,test_labels=split(image_data,label_data)\n",
    "train_labels,validation_labels,test_labels=label_preprocessing(train_labels,validation_labels,test_labels)\n",
    "train_images = train_images.astype('float32') / 255\n",
    "validation_images = validation_images.astype('float32') / 255\n",
    "test_images = test_images.astype('float32') / 255"
   ]
  },
  {
   "cell_type": "code",
   "execution_count": 34,
   "metadata": {
    "execution": {
     "iopub.execute_input": "2024-04-09T11:35:25.529588Z",
     "iopub.status.busy": "2024-04-09T11:35:25.529083Z",
     "iopub.status.idle": "2024-04-09T11:35:25.597381Z",
     "shell.execute_reply": "2024-04-09T11:35:25.596390Z",
     "shell.execute_reply.started": "2024-04-09T11:35:25.529544Z"
    }
   },
   "outputs": [],
   "source": [
    "model_cnn = models.Sequential()\n",
    "model_cnn.add(layers.Conv2D(64, (3, 3), activation='relu', input_shape=(64,64,3)))\n",
    "model_cnn.add(layers.MaxPooling2D((2, 2)))\n",
    "model_cnn.add(layers.Conv2D(32, (3, 3), activation='relu'))\n",
    "model_cnn.add(layers.MaxPooling2D((2, 2)))\n",
    "model_cnn.add(layers.Conv2D(32, (3, 3), activation='relu'))\n",
    "model_cnn.add(layers.Flatten())\n",
    "model_cnn.add(layers.Dense(128, activation='relu'))\n",
    "model_cnn.add(layers.Dense(10, activation='softmax'))"
   ]
  },
  {
   "cell_type": "code",
   "execution_count": 35,
   "metadata": {
    "execution": {
     "iopub.execute_input": "2024-04-09T11:35:26.148848Z",
     "iopub.status.busy": "2024-04-09T11:35:26.148379Z",
     "iopub.status.idle": "2024-04-09T11:35:26.156021Z",
     "shell.execute_reply": "2024-04-09T11:35:26.154871Z",
     "shell.execute_reply.started": "2024-04-09T11:35:26.148803Z"
    }
   },
   "outputs": [
    {
     "name": "stdout",
     "output_type": "stream",
     "text": [
      "Model: \"sequential_1\"\n",
      "_________________________________________________________________\n",
      "Layer (type)                 Output Shape              Param #   \n",
      "=================================================================\n",
      "conv2d_3 (Conv2D)            (None, 62, 62, 64)        1792      \n",
      "_________________________________________________________________\n",
      "max_pooling2d_2 (MaxPooling2 (None, 31, 31, 64)        0         \n",
      "_________________________________________________________________\n",
      "conv2d_4 (Conv2D)            (None, 29, 29, 32)        18464     \n",
      "_________________________________________________________________\n",
      "max_pooling2d_3 (MaxPooling2 (None, 14, 14, 32)        0         \n",
      "_________________________________________________________________\n",
      "conv2d_5 (Conv2D)            (None, 12, 12, 32)        9248      \n",
      "_________________________________________________________________\n",
      "flatten_1 (Flatten)          (None, 4608)              0         \n",
      "_________________________________________________________________\n",
      "dense_2 (Dense)              (None, 128)               589952    \n",
      "_________________________________________________________________\n",
      "dense_3 (Dense)              (None, 10)                1290      \n",
      "=================================================================\n",
      "Total params: 620,746\n",
      "Trainable params: 620,746\n",
      "Non-trainable params: 0\n",
      "_________________________________________________________________\n"
     ]
    }
   ],
   "source": [
    "model_cnn.summary()"
   ]
  },
  {
   "cell_type": "code",
   "execution_count": 36,
   "metadata": {
    "execution": {
     "iopub.execute_input": "2024-04-09T11:35:26.576472Z",
     "iopub.status.busy": "2024-04-09T11:35:26.575421Z",
     "iopub.status.idle": "2024-04-09T11:35:26.586161Z",
     "shell.execute_reply": "2024-04-09T11:35:26.585202Z",
     "shell.execute_reply.started": "2024-04-09T11:35:26.576432Z"
    }
   },
   "outputs": [],
   "source": [
    "model_cnn.compile(optimizer='rmsprop',\n",
    "              loss='categorical_crossentropy',\n",
    "              metrics=['accuracy'])"
   ]
  },
  {
   "cell_type": "code",
   "execution_count": 37,
   "metadata": {
    "execution": {
     "iopub.execute_input": "2024-04-09T11:35:31.879079Z",
     "iopub.status.busy": "2024-04-09T11:35:31.878123Z",
     "iopub.status.idle": "2024-04-09T11:36:15.062756Z",
     "shell.execute_reply": "2024-04-09T11:36:15.061726Z",
     "shell.execute_reply.started": "2024-04-09T11:35:31.879039Z"
    }
   },
   "outputs": [
    {
     "name": "stdout",
     "output_type": "stream",
     "text": [
      "Epoch 1/20\n",
      "141/141 [==============================] - 3s 14ms/step - loss: 1.1383 - accuracy: 0.6229 - val_loss: 0.2892 - val_accuracy: 0.9237\n",
      "Epoch 2/20\n",
      "141/141 [==============================] - 2s 11ms/step - loss: 0.2066 - accuracy: 0.9406 - val_loss: 0.2400 - val_accuracy: 0.9273\n",
      "Epoch 3/20\n",
      "141/141 [==============================] - 2s 12ms/step - loss: 0.0789 - accuracy: 0.9778 - val_loss: 0.0854 - val_accuracy: 0.9768\n",
      "Epoch 4/20\n",
      "141/141 [==============================] - 2s 11ms/step - loss: 0.0403 - accuracy: 0.9881 - val_loss: 0.0400 - val_accuracy: 0.9897\n",
      "Epoch 5/20\n",
      "141/141 [==============================] - 2s 11ms/step - loss: 0.0216 - accuracy: 0.9935 - val_loss: 0.0701 - val_accuracy: 0.9871\n",
      "Epoch 6/20\n",
      "141/141 [==============================] - 2s 11ms/step - loss: 0.0161 - accuracy: 0.9954 - val_loss: 0.2244 - val_accuracy: 0.9389\n",
      "Epoch 7/20\n",
      "141/141 [==============================] - 2s 11ms/step - loss: 0.0092 - accuracy: 0.9977 - val_loss: 0.0336 - val_accuracy: 0.9938\n",
      "Epoch 8/20\n",
      "141/141 [==============================] - 2s 11ms/step - loss: 0.0119 - accuracy: 0.9970 - val_loss: 0.0287 - val_accuracy: 0.9920\n",
      "Epoch 9/20\n",
      "141/141 [==============================] - 2s 12ms/step - loss: 0.0073 - accuracy: 0.9978 - val_loss: 0.0324 - val_accuracy: 0.9946\n",
      "Epoch 10/20\n",
      "141/141 [==============================] - 2s 11ms/step - loss: 0.0070 - accuracy: 0.9983 - val_loss: 0.0378 - val_accuracy: 0.9924\n",
      "Epoch 11/20\n",
      "141/141 [==============================] - 2s 11ms/step - loss: 0.0071 - accuracy: 0.9987 - val_loss: 0.1253 - val_accuracy: 0.9737\n",
      "Epoch 12/20\n",
      "141/141 [==============================] - 2s 11ms/step - loss: 0.0062 - accuracy: 0.9983 - val_loss: 0.0189 - val_accuracy: 0.9946\n",
      "Epoch 13/20\n",
      "141/141 [==============================] - 2s 11ms/step - loss: 0.0037 - accuracy: 0.9991 - val_loss: 0.0327 - val_accuracy: 0.9933\n",
      "Epoch 14/20\n",
      "141/141 [==============================] - 2s 12ms/step - loss: 0.0051 - accuracy: 0.9986 - val_loss: 0.0322 - val_accuracy: 0.9924\n",
      "Epoch 15/20\n",
      "141/141 [==============================] - 2s 12ms/step - loss: 0.0041 - accuracy: 0.9991 - val_loss: 0.0192 - val_accuracy: 0.9964\n",
      "Epoch 16/20\n",
      "141/141 [==============================] - 2s 11ms/step - loss: 0.0039 - accuracy: 0.9988 - val_loss: 0.0154 - val_accuracy: 0.9960\n",
      "Epoch 17/20\n",
      "141/141 [==============================] - 2s 11ms/step - loss: 0.0021 - accuracy: 0.9993 - val_loss: 0.0259 - val_accuracy: 0.9955\n",
      "Epoch 18/20\n",
      "141/141 [==============================] - 2s 11ms/step - loss: 0.0023 - accuracy: 0.9993 - val_loss: 0.0277 - val_accuracy: 0.9938\n",
      "Epoch 19/20\n",
      "141/141 [==============================] - 2s 11ms/step - loss: 0.0021 - accuracy: 0.9991 - val_loss: 0.0382 - val_accuracy: 0.9942\n",
      "Epoch 20/20\n",
      "141/141 [==============================] - 2s 11ms/step - loss: 0.0048 - accuracy: 0.9990 - val_loss: 0.0214 - val_accuracy: 0.9955\n"
     ]
    }
   ],
   "source": [
    "history_cnn=model_cnn.fit(train_images, train_labels, \n",
    "                          validation_data=(validation_images,validation_labels),\n",
    "                          epochs=20,\n",
    "                          batch_size=128)"
   ]
  },
  {
   "cell_type": "code",
   "execution_count": 38,
   "metadata": {
    "execution": {
     "iopub.execute_input": "2024-04-09T11:36:15.064889Z",
     "iopub.status.busy": "2024-04-09T11:36:15.064572Z",
     "iopub.status.idle": "2024-04-09T11:36:15.275465Z",
     "shell.execute_reply": "2024-04-09T11:36:15.274612Z",
     "shell.execute_reply.started": "2024-04-09T11:36:15.064860Z"
    }
   },
   "outputs": [
    {
     "data": {
      "image/png": "[encoded data removed]",
      "text/plain": [
       "<Figure size 432x288 with 1 Axes>"
      ]
     },
     "metadata": {
      "needs_background": "light"
     },
     "output_type": "display_data"
    }
   ],
   "source": [
    "plt.plot(range(1, 21), history_cnn.history['loss'], label='loss')\n",
    "plt.plot(range(1, 21), history_cnn.history['val_loss'], label='validation loss')\n",
    "plt.legend()\n",
    "plt.show()"
   ]
  },
  {
   "cell_type": "code",
   "execution_count": 39,
   "metadata": {
    "execution": {
     "iopub.execute_input": "2024-04-09T11:36:21.065966Z",
     "iopub.status.busy": "2024-04-09T11:36:21.065057Z",
     "iopub.status.idle": "2024-04-09T11:36:21.288787Z",
     "shell.execute_reply": "2024-04-09T11:36:21.287814Z",
     "shell.execute_reply.started": "2024-04-09T11:36:21.065926Z"
    }
   },
   "outputs": [
    {
     "data": {
      "image/png": "[encoded data removed]",
      "text/plain": [
       "<Figure size 432x288 with 1 Axes>"
      ]
     },
     "metadata": {
      "needs_background": "light"
     },
     "output_type": "display_data"
    }
   ],
   "source": [
    "plt.plot(range(1, 21), history_cnn.history['accuracy'], label='accuracy')\n",
    "plt.plot(range(1, 21), history_cnn.history['val_accuracy'], label='val_accuracy')\n",
    "plt.legend()\n",
    "plt.show()"
   ]
  },
  {
   "cell_type": "code",
   "execution_count": 40,
   "metadata": {
    "execution": {
     "iopub.execute_input": "2024-04-09T11:36:31.828092Z",
     "iopub.status.busy": "2024-04-09T11:36:31.827708Z",
     "iopub.status.idle": "2024-04-09T11:36:32.380519Z",
     "shell.execute_reply": "2024-04-09T11:36:32.379624Z",
     "shell.execute_reply.started": "2024-04-09T11:36:31.828060Z"
    }
   },
   "outputs": [
    {
     "name": "stdout",
     "output_type": "stream",
     "text": [
      "71/71 [==============================] - 0s 3ms/step - loss: 0.0372 - accuracy: 0.9929\n"
     ]
    }
   ],
   "source": [
    "test_loss, test_acc = model_cnn.evaluate(test_images, test_labels)"
   ]
  },
  {
   "cell_type": "markdown",
   "metadata": {},
   "source": [
    "## Data augmentation"
   ]
  },
  {
   "cell_type": "code",
   "execution_count": 42,
   "metadata": {
    "execution": {
     "iopub.execute_input": "2024-04-09T11:37:07.616461Z",
     "iopub.status.busy": "2024-04-09T11:37:07.616077Z",
     "iopub.status.idle": "2024-04-09T11:37:07.975585Z",
     "shell.execute_reply": "2024-04-09T11:37:07.974745Z",
     "shell.execute_reply.started": "2024-04-09T11:37:07.616429Z"
    }
   },
   "outputs": [],
   "source": [
    "train_datagen = ImageDataGenerator(rotation_range=40)\n",
    "dev_datagen = ImageDataGenerator(rotation_range=40)\n",
    "train_datagen.fit(train_images)\n",
    "dev_datagen.fit(validation_images)"
   ]
  },
  {
   "cell_type": "code",
   "execution_count": 43,
   "metadata": {
    "execution": {
     "iopub.execute_input": "2024-04-09T11:37:25.568696Z",
     "iopub.status.busy": "2024-04-09T11:37:25.568316Z",
     "iopub.status.idle": "2024-04-09T11:37:25.633605Z",
     "shell.execute_reply": "2024-04-09T11:37:25.632670Z",
     "shell.execute_reply.started": "2024-04-09T11:37:25.568666Z"
    }
   },
   "outputs": [],
   "source": [
    "model_aug = models.Sequential()\n",
    "model_aug.add(layers.Conv2D(64, (3, 3), activation='relu', input_shape=(64,64,3)))\n",
    "model_aug.add(layers.MaxPooling2D((2, 2)))\n",
    "model_aug.add(layers.Conv2D(32, (3, 3), activation='relu'))\n",
    "model_aug.add(layers.MaxPooling2D((2, 2)))\n",
    "model_aug.add(layers.Conv2D(32, (3, 3), activation='relu'))\n",
    "model_aug.add(layers.Flatten())\n",
    "model_aug.add(layers.Dense(256, activation='relu', name='Layer_1'))\n",
    "model_aug.add(layers.Dense(128, activation='relu', name='Layer_2'))\n",
    "model_aug.add(layers.Dense(10, activation='softmax'))"
   ]
  },
  {
   "cell_type": "code",
   "execution_count": 46,
   "metadata": {
    "execution": {
     "iopub.execute_input": "2024-04-09T11:37:46.063413Z",
     "iopub.status.busy": "2024-04-09T11:37:46.062648Z",
     "iopub.status.idle": "2024-04-09T11:37:46.069716Z",
     "shell.execute_reply": "2024-04-09T11:37:46.068725Z",
     "shell.execute_reply.started": "2024-04-09T11:37:46.063376Z"
    }
   },
   "outputs": [
    {
     "name": "stdout",
     "output_type": "stream",
     "text": [
      "Model: \"sequential\"\n",
      "_________________________________________________________________\n",
      "Layer (type)                 Output Shape              Param #   \n",
      "=================================================================\n",
      "conv2d (Conv2D)              (None, 62, 62, 64)        1792      \n",
      "_________________________________________________________________\n",
      "max_pooling2d (MaxPooling2D) (None, 31, 31, 64)        0         \n",
      "_________________________________________________________________\n",
      "conv2d_1 (Conv2D)            (None, 29, 29, 32)        18464     \n",
      "_________________________________________________________________\n",
      "max_pooling2d_1 (MaxPooling2 (None, 14, 14, 32)        0         \n",
      "_________________________________________________________________\n",
      "conv2d_2 (Conv2D)            (None, 12, 12, 32)        9248      \n",
      "_________________________________________________________________\n",
      "flatten (Flatten)            (None, 4608)              0         \n",
      "_________________________________________________________________\n",
      "Layer_1 (Dense)              (None, 256)               1179904   \n",
      "_________________________________________________________________\n",
      "Layer_2 (Dense)              (None, 128)               32896     \n",
      "_________________________________________________________________\n",
      "dense (Dense)                (None, 10)                1290      \n",
      "=================================================================\n",
      "Total params: 1,243,594\n",
      "Trainable params: 1,243,594\n",
      "Non-trainable params: 0\n",
      "_________________________________________________________________\n"
     ]
    }
   ],
   "source": [
    "model_aug.summary()"
   ]
  },
  {
   "cell_type": "code",
   "execution_count": 44,
   "metadata": {
    "execution": {
     "iopub.execute_input": "2024-04-09T11:37:28.757940Z",
     "iopub.status.busy": "2024-04-09T11:37:28.756985Z",
     "iopub.status.idle": "2024-04-09T11:37:28.767960Z",
     "shell.execute_reply": "2024-04-09T11:37:28.767118Z",
     "shell.execute_reply.started": "2024-04-09T11:37:28.757899Z"
    }
   },
   "outputs": [],
   "source": [
    "model_aug.compile(loss='categorical_crossentropy',\n",
    "              optimizer=\"rmsprop\",\n",
    "              metrics=['acc'])"
   ]
  },
  {
   "cell_type": "code",
   "execution_count": 48,
   "metadata": {
    "execution": {
     "iopub.execute_input": "2024-04-09T11:38:37.922585Z",
     "iopub.status.busy": "2024-04-09T11:38:37.922175Z",
     "iopub.status.idle": "2024-04-09T11:44:57.887144Z",
     "shell.execute_reply": "2024-04-09T11:44:57.886301Z",
     "shell.execute_reply.started": "2024-04-09T11:38:37.922551Z"
    }
   },
   "outputs": [
    {
     "name": "stdout",
     "output_type": "stream",
     "text": [
      "Epoch 1/20\n",
      "71/71 [==============================] - 19s 263ms/step - loss: 1.3263 - acc: 0.5363 - val_loss: 0.8743 - val_acc: 0.7079\n",
      "Epoch 2/20\n",
      "71/71 [==============================] - 19s 262ms/step - loss: 0.8161 - acc: 0.7261 - val_loss: 0.4938 - val_acc: 0.8519\n",
      "Epoch 3/20\n",
      "71/71 [==============================] - 19s 262ms/step - loss: 0.5233 - acc: 0.8318 - val_loss: 0.3538 - val_acc: 0.8894\n",
      "Epoch 4/20\n",
      "71/71 [==============================] - 19s 265ms/step - loss: 0.3506 - acc: 0.8915 - val_loss: 0.2293 - val_acc: 0.9393\n",
      "Epoch 5/20\n",
      "71/71 [==============================] - 19s 265ms/step - loss: 0.2561 - acc: 0.9222 - val_loss: 0.3131 - val_acc: 0.8818\n",
      "Epoch 6/20\n",
      "71/71 [==============================] - 19s 262ms/step - loss: 0.2007 - acc: 0.9397 - val_loss: 0.1483 - val_acc: 0.9523\n",
      "Epoch 7/20\n",
      "71/71 [==============================] - 18s 258ms/step - loss: 0.1560 - acc: 0.9519 - val_loss: 0.1294 - val_acc: 0.9590\n",
      "Epoch 8/20\n",
      "71/71 [==============================] - 18s 260ms/step - loss: 0.1301 - acc: 0.9611 - val_loss: 0.1177 - val_acc: 0.9688\n",
      "Epoch 9/20\n",
      "71/71 [==============================] - 19s 269ms/step - loss: 0.1142 - acc: 0.9650 - val_loss: 0.0923 - val_acc: 0.9732\n",
      "Epoch 10/20\n",
      "71/71 [==============================] - 19s 263ms/step - loss: 0.0955 - acc: 0.9699 - val_loss: 0.0890 - val_acc: 0.9697\n",
      "Epoch 11/20\n",
      "71/71 [==============================] - 19s 265ms/step - loss: 0.0860 - acc: 0.9740 - val_loss: 0.0893 - val_acc: 0.9732\n",
      "Epoch 12/20\n",
      "71/71 [==============================] - 19s 273ms/step - loss: 0.0698 - acc: 0.9779 - val_loss: 0.1080 - val_acc: 0.9750\n",
      "Epoch 13/20\n",
      "71/71 [==============================] - 20s 283ms/step - loss: 0.0686 - acc: 0.9790 - val_loss: 0.0962 - val_acc: 0.9679\n",
      "Epoch 14/20\n",
      "71/71 [==============================] - 20s 276ms/step - loss: 0.0584 - acc: 0.9823 - val_loss: 0.0620 - val_acc: 0.9790\n",
      "Epoch 15/20\n",
      "71/71 [==============================] - 20s 277ms/step - loss: 0.0561 - acc: 0.9836 - val_loss: 0.0850 - val_acc: 0.9715\n",
      "Epoch 16/20\n",
      "71/71 [==============================] - 19s 270ms/step - loss: 0.0516 - acc: 0.9835 - val_loss: 0.0747 - val_acc: 0.9781\n",
      "Epoch 17/20\n",
      "71/71 [==============================] - 20s 277ms/step - loss: 0.0442 - acc: 0.9863 - val_loss: 0.0786 - val_acc: 0.9737\n",
      "Epoch 18/20\n",
      "71/71 [==============================] - 19s 265ms/step - loss: 0.0431 - acc: 0.9872 - val_loss: 0.1305 - val_acc: 0.9554\n",
      "Epoch 19/20\n",
      "71/71 [==============================] - 19s 266ms/step - loss: 0.0403 - acc: 0.9872 - val_loss: 0.0499 - val_acc: 0.9871\n",
      "Epoch 20/20\n",
      "71/71 [==============================] - 19s 265ms/step - loss: 0.0350 - acc: 0.9895 - val_loss: 0.0567 - val_acc: 0.9831\n"
     ]
    }
   ],
   "source": [
    "history_aug = model_aug.fit(\n",
    "    train_datagen.flow(train_images, train_labels, batch_size=256,),\n",
    "         validation_data=dev_datagen.flow(validation_images, validation_labels,\n",
    "         batch_size=256),\n",
    "          epochs=20)"
   ]
  },
  {
   "cell_type": "code",
   "execution_count": 49,
   "metadata": {
    "execution": {
     "iopub.execute_input": "2024-04-09T11:45:01.429271Z",
     "iopub.status.busy": "2024-04-09T11:45:01.428867Z",
     "iopub.status.idle": "2024-04-09T11:45:01.647745Z",
     "shell.execute_reply": "2024-04-09T11:45:01.646805Z",
     "shell.execute_reply.started": "2024-04-09T11:45:01.429235Z"
    }
   },
   "outputs": [
    {
     "data": {
      "image/png": "[encoded data removed]",
      "text/plain": [
       "<Figure size 432x288 with 1 Axes>"
      ]
     },
     "metadata": {
      "needs_background": "light"
     },
     "output_type": "display_data"
    }
   ],
   "source": [
    "plt.plot(range(1, 21), history_aug.history['loss'], label='loss')\n",
    "plt.plot(range(1, 21), history_aug.history['val_loss'], label='validation loss')\n",
    "plt.legend()\n",
    "plt.show()"
   ]
  },
  {
   "cell_type": "code",
   "execution_count": 52,
   "metadata": {
    "execution": {
     "iopub.execute_input": "2024-04-09T11:46:13.167740Z",
     "iopub.status.busy": "2024-04-09T11:46:13.167318Z",
     "iopub.status.idle": "2024-04-09T11:46:13.314723Z",
     "shell.execute_reply": "2024-04-09T11:46:13.313759Z",
     "shell.execute_reply.started": "2024-04-09T11:46:13.167706Z"
    }
   },
   "outputs": [
    {
     "data": {
      "image/png": "[encoded data removed]",
      "text/plain": [
       "<Figure size 432x288 with 1 Axes>"
      ]
     },
     "metadata": {
      "needs_background": "light"
     },
     "output_type": "display_data"
    }
   ],
   "source": [
    "plt.plot(range(1, 21), history_aug.history['acc'], label='accuracy')\n",
    "plt.plot(range(1, 21), history_aug.history['val_acc'], label='val_accuracy')\n",
    "plt.legend()\n",
    "plt.show()"
   ]
  },
  {
   "cell_type": "code",
   "execution_count": 53,
   "metadata": {
    "execution": {
     "iopub.execute_input": "2024-04-09T11:46:19.497676Z",
     "iopub.status.busy": "2024-04-09T11:46:19.496764Z",
     "iopub.status.idle": "2024-04-09T11:46:20.157988Z",
     "shell.execute_reply": "2024-04-09T11:46:20.157228Z",
     "shell.execute_reply.started": "2024-04-09T11:46:19.497638Z"
    }
   },
   "outputs": [
    {
     "name": "stdout",
     "output_type": "stream",
     "text": [
      "71/71 [==============================] - 0s 3ms/step - loss: 0.0554 - acc: 0.9840\n"
     ]
    }
   ],
   "source": [
    "test_loss, test_acc = model_aug.evaluate(test_images, test_labels)"
   ]
  },
  {
   "cell_type": "markdown",
   "metadata": {},
   "source": [
    "## **Transfer Learning**"
   ]
  },
  {
   "cell_type": "code",
   "execution_count": 70,
   "metadata": {
    "execution": {
     "iopub.execute_input": "2024-04-09T12:13:09.417934Z",
     "iopub.status.busy": "2024-04-09T12:13:09.417534Z",
     "iopub.status.idle": "2024-04-09T12:13:09.774724Z",
     "shell.execute_reply": "2024-04-09T12:13:09.773648Z",
     "shell.execute_reply.started": "2024-04-09T12:13:09.417901Z"
    }
   },
   "outputs": [],
   "source": [
    "train_datagen = ImageDataGenerator(rotation_range=40)\n",
    "dev_datagen = ImageDataGenerator(rotation_range=40)\n",
    "train_datagen.fit(train_images)\n",
    "dev_datagen.fit(validation_images)"
   ]
  },
  {
   "cell_type": "code",
   "execution_count": 71,
   "metadata": {
    "execution": {
     "iopub.execute_input": "2024-04-09T12:13:09.776839Z",
     "iopub.status.busy": "2024-04-09T12:13:09.776530Z",
     "iopub.status.idle": "2024-04-09T12:13:10.524243Z",
     "shell.execute_reply": "2024-04-09T12:13:10.523398Z",
     "shell.execute_reply.started": "2024-04-09T12:13:09.776810Z"
    }
   },
   "outputs": [],
   "source": [
    "conv_base = VGG16(weights='imagenet',\n",
    "                  include_top=False,\n",
    "                  input_shape=(64, 64, 3))\n",
    "model_tl = models.Sequential()\n",
    "model_tl.add(conv_base)\n",
    "model_tl.add(layers.Flatten())\n",
    "model_tl.add(layers.Dense(256, activation='relu', name='Layer_1'))\n",
    "model_tl.add(layers.Dense(128, activation='relu', name='Layer_2'))\n",
    "model_tl.add(layers.Dense(10, activation='softmax'))\n",
    "model_tl.compile(loss='categorical_crossentropy',\n",
    "              optimizer=\"rmsprop\",\n",
    "              metrics=['acc'])"
   ]
  },
  {
   "cell_type": "code",
   "execution_count": 72,
   "metadata": {
    "execution": {
     "iopub.execute_input": "2024-04-09T12:13:10.526109Z",
     "iopub.status.busy": "2024-04-09T12:13:10.525793Z",
     "iopub.status.idle": "2024-04-09T12:13:10.532738Z",
     "shell.execute_reply": "2024-04-09T12:13:10.531886Z",
     "shell.execute_reply.started": "2024-04-09T12:13:10.526080Z"
    }
   },
   "outputs": [
    {
     "name": "stdout",
     "output_type": "stream",
     "text": [
      "Model: \"sequential_2\"\n",
      "_________________________________________________________________\n",
      "Layer (type)                 Output Shape              Param #   \n",
      "=================================================================\n",
      "vgg16 (Functional)           (None, 2, 2, 512)         14714688  \n",
      "_________________________________________________________________\n",
      "flatten_2 (Flatten)          (None, 2048)              0         \n",
      "_________________________________________________________________\n",
      "Layer_1 (Dense)              (None, 256)               524544    \n",
      "_________________________________________________________________\n",
      "Layer_2 (Dense)              (None, 128)               32896     \n",
      "_________________________________________________________________\n",
      "dense_2 (Dense)              (None, 10)                1290      \n",
      "=================================================================\n",
      "Total params: 15,273,418\n",
      "Trainable params: 15,273,418\n",
      "Non-trainable params: 0\n",
      "_________________________________________________________________\n"
     ]
    }
   ],
   "source": [
    "model_tl.summary()"
   ]
  },
  {
   "cell_type": "code",
   "execution_count": 73,
   "metadata": {
    "execution": {
     "iopub.execute_input": "2024-04-09T12:13:10.534365Z",
     "iopub.status.busy": "2024-04-09T12:13:10.533966Z",
     "iopub.status.idle": "2024-04-09T12:13:10.544080Z",
     "shell.execute_reply": "2024-04-09T12:13:10.543169Z",
     "shell.execute_reply.started": "2024-04-09T12:13:10.534329Z"
    }
   },
   "outputs": [],
   "source": [
    "conv_base.trainable = True\n",
    "set_trainable = False\n",
    "for layer in conv_base.layers:\n",
    "    if layer.name == 'block5_conv1':\n",
    "        set_trainable = True\n",
    "    if set_trainable:\n",
    "        layer.trainable = True\n",
    "    else:\n",
    "        layer.trainable = False"
   ]
  },
  {
   "cell_type": "code",
   "execution_count": 74,
   "metadata": {
    "execution": {
     "iopub.execute_input": "2024-04-09T12:13:13.441412Z",
     "iopub.status.busy": "2024-04-09T12:13:13.440464Z",
     "iopub.status.idle": "2024-04-09T12:21:27.790813Z",
     "shell.execute_reply": "2024-04-09T12:21:27.789974Z",
     "shell.execute_reply.started": "2024-04-09T12:13:13.441370Z"
    }
   },
   "outputs": [
    {
     "name": "stdout",
     "output_type": "stream",
     "text": [
      "Epoch 1/25\n",
      "71/71 [==============================] - 21s 281ms/step - loss: 107.1339 - acc: 0.1090 - val_loss: 2.3343 - val_acc: 0.1035\n",
      "Epoch 2/25\n",
      "71/71 [==============================] - 20s 276ms/step - loss: 2.3363 - acc: 0.1141 - val_loss: 2.3638 - val_acc: 0.1035\n",
      "Epoch 3/25\n",
      "71/71 [==============================] - 20s 282ms/step - loss: 2.3723 - acc: 0.1109 - val_loss: 2.3005 - val_acc: 0.1111\n",
      "Epoch 4/25\n",
      "71/71 [==============================] - 20s 276ms/step - loss: 2.4211 - acc: 0.1060 - val_loss: 2.3037 - val_acc: 0.1012\n",
      "Epoch 5/25\n",
      "71/71 [==============================] - 19s 271ms/step - loss: 2.3224 - acc: 0.1068 - val_loss: 2.0693 - val_acc: 0.1922\n",
      "Epoch 6/25\n",
      "71/71 [==============================] - 20s 274ms/step - loss: 2.2511 - acc: 0.1425 - val_loss: 2.0396 - val_acc: 0.1757\n",
      "Epoch 7/25\n",
      "71/71 [==============================] - 20s 282ms/step - loss: 1.6716 - acc: 0.3485 - val_loss: 1.4696 - val_acc: 0.4103\n",
      "Epoch 8/25\n",
      "71/71 [==============================] - 20s 278ms/step - loss: 1.3123 - acc: 0.4805 - val_loss: 1.1829 - val_acc: 0.5223\n",
      "Epoch 9/25\n",
      "71/71 [==============================] - 20s 276ms/step - loss: 1.0892 - acc: 0.5961 - val_loss: 0.9854 - val_acc: 0.6186\n",
      "Epoch 10/25\n",
      "71/71 [==============================] - 20s 279ms/step - loss: 0.8199 - acc: 0.7041 - val_loss: 0.6228 - val_acc: 0.7823\n",
      "Epoch 11/25\n",
      "71/71 [==============================] - 19s 268ms/step - loss: 0.6474 - acc: 0.7736 - val_loss: 0.6339 - val_acc: 0.7850\n",
      "Epoch 12/25\n",
      "71/71 [==============================] - 20s 277ms/step - loss: 0.4820 - acc: 0.8443 - val_loss: 0.4867 - val_acc: 0.8617\n",
      "Epoch 13/25\n",
      "71/71 [==============================] - 20s 279ms/step - loss: 0.3754 - acc: 0.8851 - val_loss: 0.2577 - val_acc: 0.9170\n",
      "Epoch 14/25\n",
      "71/71 [==============================] - 20s 277ms/step - loss: 0.3073 - acc: 0.9070 - val_loss: 0.6764 - val_acc: 0.8185\n",
      "Epoch 15/25\n",
      "71/71 [==============================] - 20s 278ms/step - loss: 0.2712 - acc: 0.9194 - val_loss: 0.1451 - val_acc: 0.9572\n",
      "Epoch 16/25\n",
      "71/71 [==============================] - 19s 272ms/step - loss: 0.2534 - acc: 0.9281 - val_loss: 0.8115 - val_acc: 0.8470\n",
      "Epoch 17/25\n",
      "71/71 [==============================] - 19s 272ms/step - loss: 0.2357 - acc: 0.9357 - val_loss: 0.1909 - val_acc: 0.9500\n",
      "Epoch 18/25\n",
      "71/71 [==============================] - 20s 280ms/step - loss: 0.2016 - acc: 0.9448 - val_loss: 0.3595 - val_acc: 0.8979\n",
      "Epoch 19/25\n",
      "71/71 [==============================] - 20s 276ms/step - loss: 0.2102 - acc: 0.9444 - val_loss: 0.1178 - val_acc: 0.9679\n",
      "Epoch 20/25\n",
      "71/71 [==============================] - 20s 279ms/step - loss: 0.1780 - acc: 0.9508 - val_loss: 0.1728 - val_acc: 0.9652\n",
      "Epoch 21/25\n",
      "71/71 [==============================] - 20s 274ms/step - loss: 0.1971 - acc: 0.9506 - val_loss: 0.1188 - val_acc: 0.9710\n",
      "Epoch 22/25\n",
      "71/71 [==============================] - 19s 270ms/step - loss: 0.2053 - acc: 0.9494 - val_loss: 0.5374 - val_acc: 0.9269\n",
      "Epoch 23/25\n",
      "71/71 [==============================] - 20s 275ms/step - loss: 0.1625 - acc: 0.9579 - val_loss: 0.1505 - val_acc: 0.9683\n",
      "Epoch 24/25\n",
      "71/71 [==============================] - 20s 275ms/step - loss: 0.1793 - acc: 0.9533 - val_loss: 0.1358 - val_acc: 0.9594\n",
      "Epoch 25/25\n",
      "71/71 [==============================] - 20s 274ms/step - loss: 0.1716 - acc: 0.9599 - val_loss: 0.0591 - val_acc: 0.9835\n"
     ]
    }
   ],
   "source": [
    "tl_history = model_tl.fit(\n",
    "    train_datagen.flow(train_images, train_labels, batch_size=256,),\n",
    "         validation_data=dev_datagen.flow(validation_images, validation_labels,\n",
    "         batch_size=256),\n",
    "          epochs=25)"
   ]
  },
  {
   "cell_type": "code",
   "execution_count": 75,
   "metadata": {
    "execution": {
     "iopub.execute_input": "2024-04-09T12:22:10.387187Z",
     "iopub.status.busy": "2024-04-09T12:22:10.386778Z",
     "iopub.status.idle": "2024-04-09T12:22:10.586447Z",
     "shell.execute_reply": "2024-04-09T12:22:10.585518Z",
     "shell.execute_reply.started": "2024-04-09T12:22:10.387153Z"
    }
   },
   "outputs": [
    {
     "data": {
      "image/png": "[encoded data removed]",
      "text/plain": [
       "<Figure size 432x288 with 1 Axes>"
      ]
     },
     "metadata": {
      "needs_background": "light"
     },
     "output_type": "display_data"
    }
   ],
   "source": [
    "plt.plot(range(1, 26), tl_history.history['loss'], label='loss')\n",
    "plt.plot(range(1, 26), tl_history.history['val_loss'], label='validation loss')\n",
    "plt.legend()\n",
    "plt.show()"
   ]
  },
  {
   "cell_type": "code",
   "execution_count": 76,
   "metadata": {
    "execution": {
     "iopub.execute_input": "2024-04-09T12:22:13.949134Z",
     "iopub.status.busy": "2024-04-09T12:22:13.948344Z",
     "iopub.status.idle": "2024-04-09T12:22:14.148015Z",
     "shell.execute_reply": "2024-04-09T12:22:14.147084Z",
     "shell.execute_reply.started": "2024-04-09T12:22:13.949098Z"
    }
   },
   "outputs": [
    {
     "data": {
      "image/png": "[encoded data removed]",
      "text/plain": [
       "<Figure size 432x288 with 1 Axes>"
      ]
     },
     "metadata": {
      "needs_background": "light"
     },
     "output_type": "display_data"
    }
   ],
   "source": [
    "plt.plot(range(1, 26), tl_history.history['acc'], label='accuracy')\n",
    "plt.plot(range(1, 26), tl_history.history['val_acc'], label='val_accuracy')\n",
    "plt.legend()\n",
    "plt.show()"
   ]
  },
  {
   "cell_type": "code",
   "execution_count": 77,
   "metadata": {
    "execution": {
     "iopub.execute_input": "2024-04-09T12:22:18.395088Z",
     "iopub.status.busy": "2024-04-09T12:22:18.394175Z",
     "iopub.status.idle": "2024-04-09T12:22:19.544779Z",
     "shell.execute_reply": "2024-04-09T12:22:19.543975Z",
     "shell.execute_reply.started": "2024-04-09T12:22:18.395052Z"
    }
   },
   "outputs": [
    {
     "name": "stdout",
     "output_type": "stream",
     "text": [
      "71/71 [==============================] - 1s 10ms/step - loss: 0.0974 - acc: 0.9835\n"
     ]
    }
   ],
   "source": [
    "test_loss, test_acc = model_tl.evaluate(test_images, test_labels)"
   ]
  }
 ],
 "metadata": {
  "kaggle": {
   "accelerator": "gpu",
   "dataSources": [
    {
     "databundleVersionId": 868335,
     "sourceId": 5048,
     "sourceType": "competition"
    }
   ],
   "dockerImageVersionId": 30204,
   "isGpuEnabled": true,
   "isInternetEnabled": true,
   "language": "python",
   "sourceType": "notebook"
  },
  "kernelspec": {
   "display_name": "Python 3 (ipykernel)",
   "language": "python",
   "name": "python3"
  },
  "language_info": {
   "codemirror_mode": {
    "name": "ipython",
    "version": 3
   },
   "file_extension": ".py",
   "mimetype": "text/x-python",
   "name": "python",
   "nbconvert_exporter": "python",
   "pygments_lexer": "ipython3",
   "version": "3.11.5"
  }
 },
 "nbformat": 4,
 "nbformat_minor": 4
}
